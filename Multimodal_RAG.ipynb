{
  "nbformat": 4,
  "nbformat_minor": 0,
  "metadata": {
    "colab": {
      "provenance": [],
      "authorship_tag": "ABX9TyNJTaHWbSOMF0DPj0VYVIcV",
      "include_colab_link": true
    },
    "kernelspec": {
      "name": "python3",
      "display_name": "Python 3"
    },
    "language_info": {
      "name": "python"
    }
  },
  "cells": [
    {
      "cell_type": "markdown",
      "metadata": {
        "id": "view-in-github",
        "colab_type": "text"
      },
      "source": [
        "<a href=\"https://colab.research.google.com/github/saif1902/Multimodal_BizPal/blob/main/Multimodal_RAG.ipynb\" target=\"_parent\"><img src=\"https://colab.research.google.com/assets/colab-badge.svg\" alt=\"Open In Colab\"/></a>"
      ]
    },
    {
      "cell_type": "markdown",
      "source": [
        "# Multimodal RAG"
      ],
      "metadata": {
        "id": "NVc_K-9kXeKB"
      }
    },
    {
      "cell_type": "code",
      "source": [
        "from google.colab import drive\n",
        "drive.mount('/content/drive')"
      ],
      "metadata": {
        "colab": {
          "base_uri": "https://localhost:8080/"
        },
        "id": "Rf4w0Hzs9mCp",
        "outputId": "1c00fac5-08e5-4dc3-dcbe-e3e7a398f995"
      },
      "execution_count": 1,
      "outputs": [
        {
          "output_type": "stream",
          "name": "stdout",
          "text": [
            "Drive already mounted at /content/drive; to attempt to forcibly remount, call drive.mount(\"/content/drive\", force_remount=True).\n"
          ]
        }
      ]
    },
    {
      "cell_type": "code",
      "source": [
        "!pip -qqq install ffmpeg-python"
      ],
      "metadata": {
        "id": "0EVP5rq9Xkk-"
      },
      "execution_count": 2,
      "outputs": []
    },
    {
      "cell_type": "code",
      "source": [
        "!pip -qqq install yt_dlp"
      ],
      "metadata": {
        "id": "IlVkHHQcXqcx"
      },
      "execution_count": 3,
      "outputs": []
    },
    {
      "cell_type": "code",
      "source": [
        "from yt_dlp import YoutubeDL\n",
        "import os\n",
        "import re"
      ],
      "metadata": {
        "id": "u2mlWUQNXuZS"
      },
      "execution_count": 4,
      "outputs": []
    },
    {
      "cell_type": "code",
      "source": [
        "from posixpath import splitext\n",
        "class Bizpal_YT_Audiodownload:\n",
        "  def __init__(self, output_folder):\n",
        "    self.output_folder = os.path.abspath(output_folder)\n",
        "    self.audio_files_dict = {}\n",
        "\n",
        "  def get_safe_filename(self, filename):\n",
        "    safe_filename = re.sub(r'[^\\w\\-.]','_', filename)\n",
        "    safe_filename = re.sub(r'_+','_', safe_filename)\n",
        "    safe_filename = safe_filename[:50].strip('_')\n",
        "    return safe_filename\n",
        "\n",
        "  def download_audio(self, video_url):\n",
        "    try:\n",
        "      ydl_opts = {\n",
        "          'format':'bestaudio/best',\n",
        "          'postprocessors':[{\n",
        "              'key': 'FFmpegExtractAudio',\n",
        "              'preferredcodec':'mp3',\n",
        "              'preferredquality':'192',\n",
        "           }],\n",
        "          'outtnpl': os.path.join(self.output_folder, '%(title)s.%(ext)s'),\n",
        "          'ignoreerrors': True\n",
        "          }\n",
        "      with YoutubeDL(ydl_opts) as ydl:\n",
        "          info = ydl.extract_info(video_url, download=True)\n",
        "          filename = ydl.prepare_filename(info)\n",
        "          base, ext = os.path.splitext(filename)\n",
        "          new_file = base + '.mp3'\n",
        "\n",
        "          print(f\"Audio file downloaded: {new_file}\")\n",
        "          self.audio_files_dict[video_url] = new_file\n",
        "          return new_file\n",
        "\n",
        "    except Exception as e:\n",
        "          print (f\"Error downloading audio from {video_url}: {str(e)}\")\n",
        "          return None\n",
        "\n",
        "  def download_multiplefiles(self,video_urls):\n",
        "    for url in video_urls:\n",
        "      print(f\"Processing video: {url}\")\n",
        "      audio_file = self.download_audio(url)\n",
        "      if audio_file is None:\n",
        "        print(f\"Failed to download audio from video: {url}\")\n",
        "\n",
        "    return self.audio_files_dict\n",
        "\n",
        "\n",
        "\n",
        "\n"
      ],
      "metadata": {
        "id": "rBmfe4d8X5M8"
      },
      "execution_count": 5,
      "outputs": []
    },
    {
      "cell_type": "code",
      "source": [
        "downloader = Bizpal_YT_Audiodownload(output_folder=\"./data\")\n",
        "# Video URLS for BizPal\n",
        "video_urls = [\"https://www.youtube.com/watch?v=NtvjoVKKW8k\",\n",
        "\"https://www.youtube.com/watch?v=Bv1MSHM-kzM&t=0s\"]\n",
        "\n",
        "#Download audio from videos\n",
        "audio_files = downloader.download_multiplefiles(video_urls)\n",
        "print(\"Downloaded audio files:\")\n",
        "for audio_file in audio_files:\n",
        "  print(audio_file)"
      ],
      "metadata": {
        "colab": {
          "base_uri": "https://localhost:8080/"
        },
        "id": "Xj8DHk1AetLn",
        "outputId": "97b96dd7-6945-4a4f-b184-88485d96c38b"
      },
      "execution_count": 6,
      "outputs": [
        {
          "output_type": "stream",
          "name": "stdout",
          "text": [
            "Processing video: https://www.youtube.com/watch?v=NtvjoVKKW8k\n",
            "[youtube] Extracting URL: https://www.youtube.com/watch?v=NtvjoVKKW8k\n",
            "[youtube] NtvjoVKKW8k: Downloading webpage\n",
            "[youtube] NtvjoVKKW8k: Downloading ios player API JSON\n",
            "[youtube] NtvjoVKKW8k: Downloading mweb player API JSON\n",
            "[youtube] NtvjoVKKW8k: Downloading m3u8 information\n",
            "[info] NtvjoVKKW8k: Downloading 1 format(s): 251\n",
            "[download] Destination: BizPal website explained (with tutorial) [NtvjoVKKW8k].webm\n",
            "[download] 100% of    3.87MiB in 00:00:00 at 5.15MiB/s   \n",
            "[ExtractAudio] Destination: BizPal website explained (with tutorial) [NtvjoVKKW8k].mp3\n",
            "Deleting original file BizPal website explained (with tutorial) [NtvjoVKKW8k].webm (pass -k to keep)\n",
            "Audio file downloaded: BizPal website explained (with tutorial) [NtvjoVKKW8k].mp3\n",
            "Processing video: https://www.youtube.com/watch?v=Bv1MSHM-kzM&t=0s\n",
            "[youtube] Extracting URL: https://www.youtube.com/watch?v=Bv1MSHM-kzM&t=0s\n",
            "[youtube] Bv1MSHM-kzM: Downloading webpage\n",
            "[youtube] Bv1MSHM-kzM: Downloading ios player API JSON\n",
            "[youtube] Bv1MSHM-kzM: Downloading mweb player API JSON\n",
            "[youtube] Bv1MSHM-kzM: Downloading m3u8 information\n",
            "[info] Bv1MSHM-kzM: Downloading 1 format(s): 140\n",
            "[download] Destination: Set Up a New Business in Four Steps [Bv1MSHM-kzM].m4a\n",
            "[download] 100% of    3.01MiB in 00:00:00 at 4.48MiB/s   \n",
            "[FixupM4a] Correcting container of \"Set Up a New Business in Four Steps [Bv1MSHM-kzM].m4a\"\n",
            "[ExtractAudio] Destination: Set Up a New Business in Four Steps [Bv1MSHM-kzM].mp3\n",
            "Deleting original file Set Up a New Business in Four Steps [Bv1MSHM-kzM].m4a (pass -k to keep)\n",
            "Audio file downloaded: Set Up a New Business in Four Steps [Bv1MSHM-kzM].mp3\n",
            "Downloaded audio files:\n",
            "https://www.youtube.com/watch?v=NtvjoVKKW8k\n",
            "https://www.youtube.com/watch?v=Bv1MSHM-kzM&t=0s\n"
          ]
        }
      ]
    },
    {
      "cell_type": "code",
      "source": [
        "!pip -qqq install openai-whisper"
      ],
      "metadata": {
        "id": "YISLiw3zfNnv"
      },
      "execution_count": 7,
      "outputs": []
    },
    {
      "cell_type": "code",
      "source": [
        "import whisper\n",
        "import torch"
      ],
      "metadata": {
        "id": "wA2u-_5zoIEd"
      },
      "execution_count": 8,
      "outputs": []
    },
    {
      "cell_type": "code",
      "source": [
        "# Setting up device\n",
        "device = \"cuda\" if torch.cuda.is_available() else \"cpu\"\n",
        "# Loading the model\n",
        "whisper_model = whisper.load_model(\"medium\", device=device)"
      ],
      "metadata": {
        "colab": {
          "base_uri": "https://localhost:8080/"
        },
        "id": "Bx7S24B7s9la",
        "outputId": "ff649fd4-93c4-4b19-8fc8-2d7969ace03a"
      },
      "execution_count": 9,
      "outputs": [
        {
          "output_type": "stream",
          "name": "stderr",
          "text": [
            "/usr/local/lib/python3.10/dist-packages/whisper/__init__.py:150: FutureWarning: You are using `torch.load` with `weights_only=False` (the current default value), which uses the default pickle module implicitly. It is possible to construct malicious pickle data which will execute arbitrary code during unpickling (See https://github.com/pytorch/pytorch/blob/main/SECURITY.md#untrusted-models for more details). In a future release, the default value for `weights_only` will be flipped to `True`. This limits the functions that could be executed during unpickling. Arbitrary objects will no longer be allowed to be loaded via this mode unless they are explicitly allowlisted by the user via `torch.serialization.add_safe_globals`. We recommend you start setting `weights_only=True` for any use case where you don't have full control of the loaded file. Please open an issue on GitHub for any issues related to this experimental feature.\n",
            "  checkpoint = torch.load(fp, map_location=device)\n"
          ]
        }
      ]
    },
    {
      "cell_type": "code",
      "source": [
        "class AudioTranscriber:\n",
        "  def __init__(self,input_folder):\n",
        "    self.input_folder = os.path.abspath(os.path.join(os.getcwd(),input_folder))\n",
        "    self.whisper_model = None\n",
        "    self.transcriptions_dict = {}\n",
        "\n",
        "  def transcribe_audio(self,audio_file):\n",
        "    try:\n",
        "      if not os.path.exists(audio_file):\n",
        "          print(f\"Audio file not found: {audio_file}\")\n",
        "          return None\n",
        "\n",
        "      file_size = os.path.getsize(audio_file)\n",
        "      if file_size == 0:\n",
        "          print(f\"Empty audio file: {audio_file}\")\n",
        "          return None\n",
        "\n",
        "      transcription = self.whisper_model.transcribe(audio_file)\n",
        "      return transcription[\"text\"]\n",
        "\n",
        "    except Exception as e:\n",
        "          print(f\"Error transcribing audio file: {audio_file}\")\n",
        "          print(f\"Error message: {str(e)}\")\n",
        "          return None\n",
        "\n",
        "  def transcribe_all_audios(self,audio_files_dict):\n",
        "    for url,audio_path in audio_files_dict.items():\n",
        "      if not audio_path.endswith(\".mp3\"):\n",
        "        print(f\"Skipping non-MP3 file: {audio_path}\")\n",
        "        continue\n",
        "\n",
        "      transcription = self.transcribe_audio(audio_path)\n",
        "\n",
        "      if transcription is not None:\n",
        "        self.transcriptions_dict[url] = {\n",
        "            'url': url,\n",
        "            'audio_path': audio_path,\n",
        "            'transcription': transcription\n",
        "        }\n",
        "\n",
        "      else:\n",
        "        print(f\"Transcription failed for file: {audio_path}\")\n",
        "\n",
        "    return self.transcriptions_dict"
      ],
      "metadata": {
        "id": "fRCAyZcToPEh"
      },
      "execution_count": 10,
      "outputs": []
    },
    {
      "cell_type": "code",
      "source": [
        "# Initialize transcriber\n",
        "transcriber = AudioTranscriber(input_folder=\"./data\")\n",
        "# Set the whisper model\n",
        "transcriber.whisper_model = whisper_model\n",
        "# Transcribe audio\n",
        "transcriptions_dict = transcriber.transcribe_all_audios(audio_files)\n",
        "\n",
        "for url,transcription in transcriptions_dict.items():\n",
        "  print(f\"URL: {url}\")\n",
        "  print(f\"Audio file: {transcription['audio_path']}\")\n",
        "  print(f\"Transcription: {transcription['transcription'][:100]}...\")\n",
        "  print(\"---\")"
      ],
      "metadata": {
        "colab": {
          "base_uri": "https://localhost:8080/"
        },
        "id": "ezkNmX1rtQyM",
        "outputId": "f02c489f-3653-4524-9991-62f02e35d243"
      },
      "execution_count": null,
      "outputs": [
        {
          "output_type": "stream",
          "name": "stderr",
          "text": [
            "/usr/local/lib/python3.10/dist-packages/whisper/transcribe.py:126: UserWarning: FP16 is not supported on CPU; using FP32 instead\n",
            "  warnings.warn(\"FP16 is not supported on CPU; using FP32 instead\")\n",
            "/usr/local/lib/python3.10/dist-packages/whisper/transcribe.py:126: UserWarning: FP16 is not supported on CPU; using FP32 instead\n",
            "  warnings.warn(\"FP16 is not supported on CPU; using FP32 instead\")\n"
          ]
        }
      ]
    },
    {
      "cell_type": "code",
      "source": [
        "transcriptions_dict"
      ],
      "metadata": {
        "id": "NgQHZilLuCRl"
      },
      "execution_count": null,
      "outputs": []
    },
    {
      "cell_type": "code",
      "source": [
        "# Get first key-value pair\n",
        "first_item = next(iter(transcriptions_dict.items()))\n",
        "\n",
        "# Extract transcription\n",
        "first_transcription = first_item[1]['transcription']\n",
        "\n",
        "# Print the transcription\n",
        "print(first_transcription)\n"
      ],
      "metadata": {
        "id": "1l_kDNiQvXer"
      },
      "execution_count": null,
      "outputs": []
    },
    {
      "cell_type": "code",
      "source": [
        "import json\n",
        "\n",
        "audio_data = [\n",
        "    {\n",
        "        \"url\": value[\"url\"],\n",
        "        \"audiopath\": value[\"audio_path\"],\n",
        "        \"transcription\": value[\"transcription\"]\n",
        "    }\n",
        "    for value in transcriptions_dict.values()\n",
        "]\n",
        "print(json.dumps(audio_data, indent=2))"
      ],
      "metadata": {
        "id": "2aB4o8H6vwxr"
      },
      "execution_count": null,
      "outputs": []
    },
    {
      "cell_type": "markdown",
      "source": [
        "PDF Document Parsing"
      ],
      "metadata": {
        "id": "Qxhx3bkGwv76"
      }
    },
    {
      "cell_type": "code",
      "source": [
        "!pip -qqq install pdfminer.six\n",
        "!pip -qqq install pillow-heif==0.3.2\n",
        "!pip -qqq install matplotlib\n",
        "!pip -qqq install tesseract-ocr\n",
        "!pip -qqq install unstructured-inference\n",
        "!pip -qqq install unstructured-pytesseract"
      ],
      "metadata": {
        "id": "VFElm0CGwzl-"
      },
      "execution_count": null,
      "outputs": []
    },
    {
      "cell_type": "code",
      "source": [
        "%%bash\n",
        "apt install tesseract-ocr\n",
        "apt install libtesseract-dev"
      ],
      "metadata": {
        "id": "5oN2pLooxyhj"
      },
      "execution_count": null,
      "outputs": []
    },
    {
      "cell_type": "code",
      "source": [
        "!pip install pi-heif==0.7.0"
      ],
      "metadata": {
        "id": "XSOdqc0k33iv"
      },
      "execution_count": null,
      "outputs": []
    },
    {
      "cell_type": "code",
      "source": [
        "!pip install unstructured"
      ],
      "metadata": {
        "id": "FxBXQ-8vkKx5"
      },
      "execution_count": null,
      "outputs": []
    },
    {
      "cell_type": "code",
      "source": [
        "from unstructured.partition.pdf import partition_pdf"
      ],
      "metadata": {
        "id": "dPU0r_mHyGZ3"
      },
      "execution_count": null,
      "outputs": []
    },
    {
      "cell_type": "code",
      "source": [
        "bizpal_pdf = \"/content/BizPal.pdf\""
      ],
      "metadata": {
        "id": "HWdBoaxty2Mg"
      },
      "execution_count": null,
      "outputs": []
    },
    {
      "cell_type": "code",
      "source": [
        "%%bash\n",
        "sudo apt-get update\n",
        "sudo apt-get install poppler-utils"
      ],
      "metadata": {
        "id": "fmNTkKwjzamj"
      },
      "execution_count": null,
      "outputs": []
    },
    {
      "cell_type": "code",
      "source": [
        "pip install --upgrade nltk\n"
      ],
      "metadata": {
        "id": "DRdX0MTt_A2G"
      },
      "execution_count": null,
      "outputs": []
    },
    {
      "cell_type": "code",
      "source": [
        "import nltk\n",
        "import os\n",
        "\n",
        "# Set a new path for nltk_data, such as a 'nltk_data' folder in the current directory\n",
        "new_nltk_data_path = os.path.join(os.getcwd(), \"nltk_data\")\n",
        "nltk.data.path.append(new_nltk_data_path)\n",
        "\n",
        "# Download 'punkt' to the new location\n",
        "nltk.download('punkt', download_dir=new_nltk_data_path)\n"
      ],
      "metadata": {
        "id": "hfK1ZV7B_Gmu"
      },
      "execution_count": null,
      "outputs": []
    },
    {
      "cell_type": "code",
      "source": [
        "bizpal_pdfdata = partition_pdf(\n",
        "    filename = bizpal_pdf,\n",
        "    strategy=\"hi_res\",\n",
        "    extract_images_in_pdf=True,\n",
        "    extract_image_block_to_payload = False,\n",
        "    extract_image_block_output_dir = \"./data/images\"\n",
        ")"
      ],
      "metadata": {
        "id": "7ulgki2uzikM"
      },
      "execution_count": null,
      "outputs": []
    },
    {
      "cell_type": "code",
      "source": [
        "bizpal_pdfdata"
      ],
      "metadata": {
        "id": "EBK_dp8h0Pp5"
      },
      "execution_count": null,
      "outputs": []
    },
    {
      "cell_type": "code",
      "source": [
        "from unstructured.documents.elements import NarrativeText"
      ],
      "metadata": {
        "id": "eXO0TDCZ4Tvl"
      },
      "execution_count": null,
      "outputs": []
    },
    {
      "cell_type": "code",
      "source": [
        "def extract_text_with_metadata(bizpal_pdf, source_document):\n",
        "  text_data = []\n",
        "  paragraph_counters = {}\n",
        "\n",
        "  for element in bizpal_pdf:\n",
        "    if isinstance(element, NarrativeText):\n",
        "      page_number = element.metadata.page_number\n",
        "\n",
        "    if page_number not in paragraph_counters:\n",
        "      paragraph_counters[page_number] = 1\n",
        "    else:\n",
        "      paragraph_counters[page_number] += 1\n",
        "\n",
        "    paragraph_number = paragraph_counters[page_number]\n",
        "\n",
        "    text_content = element.text\n",
        "\n",
        "    text_data.append({\n",
        "        'source_document': source_document,\n",
        "        'page_number': page_number,\n",
        "        'paragraph_number': paragraph_number,\n",
        "        'text': text_content\n",
        "    })\n",
        "\n",
        "  return text_data"
      ],
      "metadata": {
        "id": "6Dav5P1u4cRO"
      },
      "execution_count": null,
      "outputs": []
    },
    {
      "cell_type": "code",
      "source": [
        "bizpal_pdf_text_data = extract_text_with_metadata(bizpal_pdfdata, bizpal_pdf)"
      ],
      "metadata": {
        "id": "4cbkBZh4_8Z3"
      },
      "execution_count": null,
      "outputs": []
    },
    {
      "cell_type": "code",
      "source": [
        "bizpal_pdf_text_data"
      ],
      "metadata": {
        "id": "6lq4luB-ATR9"
      },
      "execution_count": null,
      "outputs": []
    },
    {
      "cell_type": "markdown",
      "source": [
        "Extract Image"
      ],
      "metadata": {
        "id": "VGppxNvsAcLZ"
      }
    },
    {
      "cell_type": "code",
      "source": [
        "from unstructured.documents.elements import Image"
      ],
      "metadata": {
        "id": "8jjwh463AVep"
      },
      "execution_count": null,
      "outputs": []
    },
    {
      "cell_type": "code",
      "source": [
        "def extract_image_metadata(bizpal_pdf, source_document):\n",
        "  image_data = []\n",
        "\n",
        "  for element in bizpal_pdf:\n",
        "    if isinstance(element, Image):\n",
        "      page_number = element.metadata.page_number\n",
        "      image_path = element.metadata.image_path if hasattr(element.metadata, 'image_path') else None\n",
        "\n",
        "      image_data.append({\n",
        "          'source_document': source_document,\n",
        "          'page_number': page_number,\n",
        "          'image_path': image_path\n",
        "      })\n",
        "\n",
        "  return image_data"
      ],
      "metadata": {
        "id": "qtf1E1IeAiUU"
      },
      "execution_count": null,
      "outputs": []
    },
    {
      "cell_type": "code",
      "source": [
        "extract_image_metadata = extract_image_metadata(bizpal_pdfdata, bizpal_pdf)"
      ],
      "metadata": {
        "id": "NMwYLjsAA4bb"
      },
      "execution_count": null,
      "outputs": []
    },
    {
      "cell_type": "code",
      "source": [
        "import matplotlib.pyplot as plt\n",
        "from PIL import Image\n",
        "import math"
      ],
      "metadata": {
        "id": "BXW0tbOnA-9-"
      },
      "execution_count": null,
      "outputs": []
    },
    {
      "cell_type": "code",
      "source": [
        "import matplotlib.pyplot as plt\n",
        "from PIL import Image\n",
        "import math\n",
        "\n",
        "def display_images_from_metadata(extract_image_metadata, images_per_row=1):\n",
        "    # Filter out entries with missing image paths\n",
        "    valid_images = [img for img in extract_image_metadata if img['image_path']]\n",
        "    if not valid_images:\n",
        "        print(\"No valid images found.\")\n",
        "        return\n",
        "\n",
        "    # Calculate rows and setup figure\n",
        "    num_images = len(valid_images)\n",
        "    num_rows = math.ceil(num_images / images_per_row)\n",
        "\n",
        "    fig, axes = plt.subplots(num_rows, images_per_row, figsize=(20, 5 * num_rows))\n",
        "    axes = axes.flatten() if num_rows > 1 else [axes]\n",
        "\n",
        "    for ax, img_data in zip(axes, valid_images):\n",
        "        try:\n",
        "            # Open and display image\n",
        "            img = Image.open(img_data['image_path'])\n",
        "            ax.imshow(img)\n",
        "            ax.axis('off')\n",
        "            ax.set_title(f\"Page {img_data['page_number']}\", fontsize=10)\n",
        "        except Exception as e:\n",
        "            # Handle any errors opening the image\n",
        "            print(f\"Error opening image: {img_data['image_path']}\")\n",
        "            ax.axis('off')  # Hide the axis if image load fails\n",
        "\n",
        "    # Remove any extra axes\n",
        "    for ax in axes[num_images:]:\n",
        "        fig.delaxes(ax)\n",
        "\n",
        "    plt.tight_layout()\n",
        "    plt.show()\n"
      ],
      "metadata": {
        "id": "HC3jAzY_ICL7"
      },
      "execution_count": null,
      "outputs": []
    },
    {
      "cell_type": "code",
      "source": [
        "display_images_from_metadata(extract_image_metadata)"
      ],
      "metadata": {
        "id": "YRxERX36MThk"
      },
      "execution_count": null,
      "outputs": []
    },
    {
      "cell_type": "markdown",
      "source": [
        "# Extract Table"
      ],
      "metadata": {
        "id": "RCw04N01NrJX"
      }
    },
    {
      "cell_type": "code",
      "source": [
        "from unstructured.documents.elements import Table"
      ],
      "metadata": {
        "id": "nTw5oL4yNoqd"
      },
      "execution_count": null,
      "outputs": []
    },
    {
      "cell_type": "code",
      "source": [
        "def extract_table_metadata(bizpal_pdf, source_document):\n",
        "  table_data = []\n",
        "\n",
        "  for element in bizpal_pdf:\n",
        "    if isinstance(element,Table):\n",
        "      page_number = element.metadata.page_number\n",
        "\n",
        "      # Extract table content as string\n",
        "      table_content = str(element)\n",
        "\n",
        "      table_data.append({\n",
        "          'source_document': source_document,\n",
        "          'page_number': page_number,\n",
        "          'table_content': table_content\n",
        "      })\n",
        "\n",
        "  return table_data"
      ],
      "metadata": {
        "id": "ESiXJfUXNwdC"
      },
      "execution_count": null,
      "outputs": []
    },
    {
      "cell_type": "code",
      "source": [
        "extract_table_metadata = extract_table_metadata(bizpal_pdfdata, bizpal_pdf)"
      ],
      "metadata": {
        "id": "fooX8qU2OC2Y"
      },
      "execution_count": null,
      "outputs": []
    },
    {
      "cell_type": "markdown",
      "source": [
        "Image and Table summarization"
      ],
      "metadata": {
        "id": "EsCm13A-OWZu"
      }
    },
    {
      "cell_type": "code",
      "source": [
        "!pip -qqq install langchain-core\n",
        "!pip -qqq install langchain-openai"
      ],
      "metadata": {
        "id": "-UIc-zDbOY_O"
      },
      "execution_count": null,
      "outputs": []
    },
    {
      "cell_type": "code",
      "source": [
        "table_summarizer_prompt = \"\"\"\n",
        "As an expert for BizPal program, provide a concise and exact summary of the program. Focus on frequently asked questions and their relevance to BizPal. Highlight potential resources for someone starting out a business. Avoid bullet points; instead, deliver a coherent, factual summary that captures the essence of the BizPal program.\n",
        "Limit your summary to 3-4 sentences, ensuring it is precise and informative for BizPal users.\n",
        "\"\"\""
      ],
      "metadata": {
        "id": "PNsWMBVDOkbZ"
      },
      "execution_count": null,
      "outputs": []
    },
    {
      "cell_type": "code",
      "source": [
        "from langchain_core.prompts import ChatPromptTemplate\n",
        "from langchain_openai import ChatOpenAI"
      ],
      "metadata": {
        "id": "zGU1rjoGPnVB"
      },
      "execution_count": null,
      "outputs": []
    },
    {
      "cell_type": "code",
      "source": [
        "from google.colab import userdata"
      ],
      "metadata": {
        "id": "dogPyta3P5Lg"
      },
      "execution_count": null,
      "outputs": []
    },
    {
      "cell_type": "markdown",
      "source": [],
      "metadata": {
        "id": "ggm12HiDQXXL"
      }
    },
    {
      "cell_type": "markdown",
      "source": [],
      "metadata": {
        "id": "q0nKTIlxQXRx"
      }
    },
    {
      "cell_type": "code",
      "source": [
        "OPENAI_API_TOKEN = userdata.get('OPENAI_API_TOKEN')\n",
        "model_ID = \"gpt-4o\"\n",
        "os.environ[\"OPENAI_API_KEY\"] = OPENAI_API_TOKEN"
      ],
      "metadata": {
        "id": "sp-R7OyvP_tC"
      },
      "execution_count": null,
      "outputs": []
    },
    {
      "cell_type": "code",
      "source": [
        "description_model = ChatOpenAI(\n",
        "    model_name = model_ID,\n",
        "    temperature = 0\n",
        ")"
      ],
      "metadata": {
        "id": "8dM84qchRhtv"
      },
      "execution_count": null,
      "outputs": []
    },
    {
      "cell_type": "code",
      "source": [
        "def extract_table_metadata_with_summary(bizpal_pdf, source_document, table_summarizer_prompt):\n",
        "  table_data = []\n",
        "\n",
        "  prompt = ChatPromptTemplate.from_template(table_summarizer_prompt)\n",
        "\n",
        "  for element in bizpal_pdf:\n",
        "    if isinstance(element,Table):\n",
        "      page_number = element.metadata.page_number\n",
        "\n",
        "      # Extract table content as string\n",
        "      table_content = str(element)\n",
        "\n",
        "      # Summarize\n",
        "      messages = prompt.format_messages(text=table_content)\n",
        "      description = description_model(messages).content\n",
        "\n",
        "      table_data.append({\n",
        "          'source_document': source_document,\n",
        "          'page_number': page_number,\n",
        "          'table_content': table_content,\n",
        "          'description': description\n",
        "      })\n",
        "\n",
        "  return table_data"
      ],
      "metadata": {
        "id": "yQUDmNYLRqM4"
      },
      "execution_count": null,
      "outputs": []
    },
    {
      "cell_type": "code",
      "source": [
        "extract_table_metadata_with_summary= extract_table_metadata_with_summary(bizpal_pdfdata, bizpal_pdf, table_summarizer_prompt)"
      ],
      "metadata": {
        "id": "QvIsbZ9RSfqx"
      },
      "execution_count": null,
      "outputs": []
    },
    {
      "cell_type": "code",
      "source": [
        "extract_table_metadata_with_summary"
      ],
      "metadata": {
        "id": "HFommEdKSwgP"
      },
      "execution_count": null,
      "outputs": []
    },
    {
      "cell_type": "code",
      "source": [
        "# Check if the list is not empty\n",
        "if extract_table_metadata_with_summary:\n",
        "    # Get the first key-value pair\n",
        "    first_table = extract_table_metadata_with_summary[0]\n",
        "\n",
        "    # Extract the description\n",
        "    first_description = first_table['description']\n",
        "\n",
        "    # Print the description\n",
        "    print(first_description)\n",
        "else:\n",
        "    print(\"The list 'extract_table_metadata_with_summary' is empty.\")\n"
      ],
      "metadata": {
        "id": "EHt68atySzKp"
      },
      "execution_count": null,
      "outputs": []
    },
    {
      "cell_type": "code",
      "source": [
        "from PIL import Image as PILImage\n",
        "import base64"
      ],
      "metadata": {
        "id": "au0tzpAFT5hX"
      },
      "execution_count": null,
      "outputs": []
    },
    {
      "cell_type": "code",
      "source": [
        "image_summarizer_prompt = \"\"\"\n",
        "As an expert for BizPal program,provide a concise and exact summary of the program. Focus on frequently asked questions and their relevance to BizPal. Highlight potential resources for someone starting out a business. Avoid bullet points; instead, deliver a coherent, factual summary that captures the essence of the BizPal program.\n",
        "Image: {image_element}\n",
        "Limit your summary to 3-4 sentences, ensuring it is precise and informative for BizPal users.\n",
        "\"\"\""
      ],
      "metadata": {
        "id": "ZRM27_nqUlf7"
      },
      "execution_count": null,
      "outputs": []
    },
    {
      "cell_type": "code",
      "source": [
        "def extract_image_metadata_with_summary(bizpal_pdf, source_document, image_summarizer_prompt):\n",
        "  image_data = []\n",
        "  # chatprompt\n",
        "  prompt = ChatPromptTemplate.from_template(image_summarizer_prompt)\n",
        "\n",
        "  description_model = ChatOpenAI(\n",
        "    model_name = model_ID,\n",
        "    temperature = 0\n",
        "  )\n",
        "\n",
        "  for element in bizpal_pdf:\n",
        "    if \"Image\" in str(type(element)):\n",
        "      page_number = element.metadata.page_number if hasattr(element.metadata, 'page_number') else None\n",
        "      image_path = element.metadata.image_path if hasattr(element.metadata, 'image_path') else None\n",
        "\n",
        "      if image_path and os.path.exists(image_path):\n",
        "        messages = prompt.format_messages(image_element=element)\n",
        "        description = description_model(messages).content\n",
        "\n",
        "        with open(image_path, \"rb\") as image_file:\n",
        "          image_base64 = base64.b64encode(image_file.read()).decode('utf-8')\n",
        "\n",
        "        image_data.append({\n",
        "            'source_document': bizpal_pdf,\n",
        "            'page_number': page_number,\n",
        "            'image_path': image_path,\n",
        "            'image_base64': image_base64,\n",
        "            'description': description\n",
        "        })\n",
        "\n",
        "  return image_data"
      ],
      "metadata": {
        "id": "BmvAQt4_U8oD"
      },
      "execution_count": null,
      "outputs": []
    },
    {
      "cell_type": "code",
      "source": [
        "extract_image_metadata_with_summary = extract_image_metadata_with_summary(bizpal_pdfdata, bizpal_pdf, image_summarizer_prompt)"
      ],
      "metadata": {
        "id": "pVD18KPgWC5x"
      },
      "execution_count": null,
      "outputs": []
    },
    {
      "cell_type": "code",
      "source": [
        "extract_image_metadata_with_summary"
      ],
      "metadata": {
        "id": "ho50_-2nWJwS"
      },
      "execution_count": null,
      "outputs": []
    },
    {
      "cell_type": "markdown",
      "source": [],
      "metadata": {
        "id": "BxsjFyCGU8cb"
      }
    },
    {
      "cell_type": "markdown",
      "source": [
        "Connect to weaviate"
      ],
      "metadata": {
        "id": "WbUeK0q0Wb-G"
      }
    },
    {
      "cell_type": "code",
      "source": [
        "!pip -qqq install weaviate-client"
      ],
      "metadata": {
        "id": "3XgX7-GkWbmD"
      },
      "execution_count": null,
      "outputs": []
    },
    {
      "cell_type": "code",
      "source": [
        "import weaviate"
      ],
      "metadata": {
        "id": "YagczY13WiPQ"
      },
      "execution_count": null,
      "outputs": []
    },
    {
      "cell_type": "code",
      "source": [
        "#Setup th environment variables\n",
        "URL = userdata.get('WCS_URL')\n",
        "APIKEY = userdata.get('WCS_APIKEY')\n",
        "\n",
        "# Connect to WCS instance\n",
        "client = weaviate.connect_to_wcs(\n",
        "    cluster_url = URL,\n",
        "    auth_credentials = weaviate.auth.AuthApiKey(APIKEY),\n",
        "    headers = {\n",
        "        \"X-OpenAI-Api-Key\": OPENAI_API_TOKEN\n",
        "    }\n",
        ")"
      ],
      "metadata": {
        "id": "oTM4Dma-WmSu"
      },
      "execution_count": null,
      "outputs": []
    },
    {
      "cell_type": "code",
      "source": [
        "client"
      ],
      "metadata": {
        "id": "_Bjgx_FTZmgD"
      },
      "execution_count": null,
      "outputs": []
    },
    {
      "cell_type": "markdown",
      "source": [
        "SETUP WEAVIATE database"
      ],
      "metadata": {
        "id": "zWcXQERBZtrH"
      }
    },
    {
      "cell_type": "markdown",
      "source": [],
      "metadata": {
        "id": "BadpaIc6NmEG"
      }
    },
    {
      "cell_type": "code",
      "source": [
        "import weaviate.classes.config as wc\n",
        "\n",
        "properties = [\n",
        "    wc.Property(name=\"source_document\", data_type=wc.DataType.TEXT, skip_vectorization=True),\n",
        "    wc.Property(name=\"page_number\", data_type=wc.DataType.INT, skip_vectorization=True),\n",
        "    wc.Property(name=\"paragraph_number\", data_type=wc.DataType.INT, skip_vectorization=True),\n",
        "    wc.Property(name=\"image_path\", data_type=wc.DataType.TEXT, skip_vectorization=True),\n",
        "    wc.Property(name=\"text\", data_type=wc.DataType.TEXT),\n",
        "    wc.Property(name=\"image_base64\", data_type=wc.DataType.TEXT, skip_vectorization=True),\n",
        "    wc.Property(name=\"description\", data_type=wc.DataType.TEXT),\n",
        "    wc.Property(name=\"transcription\", data_type=wc.DataType.TEXT),\n",
        "    wc.Property(name=\"audio_path\", data_type=wc.DataType.TEXT, skip_vectorization=True),\n",
        "    wc.Property(name=\"url\", data_type=wc.DataType.TEXT, skip_vectorization=True),\n",
        "    wc.Property(name=\"content_type\", data_type=wc.DataType.TEXT, skip_vectorization=True),\n",
        "    wc.Property(name=\"table_content\", data_type=wc.DataType.TEXT),\n",
        "]"
      ],
      "metadata": {
        "id": "kPeFHZhfZwe2"
      },
      "execution_count": null,
      "outputs": []
    },
    {
      "cell_type": "code",
      "source": [
        "client.collections.create(\n",
        "    name=\"BizPal\",\n",
        "    properties=properties,\n",
        "    vectorizer_config= None\n",
        ")"
      ],
      "metadata": {
        "id": "u7qztWL8ZwB5"
      },
      "execution_count": null,
      "outputs": []
    },
    {
      "cell_type": "markdown",
      "source": [
        "Data Ingestion"
      ],
      "metadata": {
        "id": "3iulc7vebdi8"
      }
    },
    {
      "cell_type": "code",
      "source": [
        "from weaviate.util import generate_uuid5\n",
        "from tqdm import tqdm\n",
        "from openai import OpenAI\n",
        "openai_client = OpenAI()"
      ],
      "metadata": {
        "id": "COFvK0wVbYZ0"
      },
      "execution_count": null,
      "outputs": []
    },
    {
      "cell_type": "code",
      "source": [
        "#Function to get embeddings\n",
        "def get_embeddings(text):\n",
        "  embeddings = openai_client.embeddings.create(\n",
        "      input = [text],\n",
        "      model = \"text-embedding-3-large\"\n",
        "  )\n",
        "  return embeddings.data[0].embedding\n",
        "\n",
        "\n",
        "# Ingestion function\n",
        "def ingest_audio_data(collection, audio_data):\n",
        "  with collection.batch.dynamic() as batch:\n",
        "    for audio in tqdm(audio_data, desc=\"Ingesting audio data\"):\n",
        "      vector = get_embeddings(audio[\"transcription\"])\n",
        "      audio_obj = {\n",
        "          \"url\": audio[\"url\"],\n",
        "          \"audio_path\": audio[\"audio_path\"],\n",
        "          \"transcription\": audio[\"transcription\"],\n",
        "          \"content_type\": \"audio\"\n",
        "      }\n",
        "      batch.add_object(\n",
        "          properties=audio_obj,\n",
        "          uuid=generate_uuid5(audio_obj),\n",
        "          vector=vector\n",
        "      )\n",
        "\n",
        "def ingest_text_data(collection, text_data):\n",
        "    with collection.batch.dynamic() as batch:\n",
        "        for text in tqdm(text_data, desc=\"Ingesting text data\"):\n",
        "            vector = get_embeddings(text[\"text\"])\n",
        "            text_obj = {\n",
        "                \"source_document\": text[\"source_document\"],\n",
        "                \"page_number\": text[\"page_number\"],\n",
        "                \"paragraph_number\": text[\"paragraph_number\"],\n",
        "                \"content_type\": \"text\"\n",
        "            }\n",
        "            batch.add_object(\n",
        "                properties=text_obj,\n",
        "                uuid=generate_uuid5(f\"{text['source_document']}_{text['page_number']}_{text['paragraph_number']}\"),\n",
        "                vector=vector\n",
        "            )\n",
        "\n",
        "def ingest_image_data(collection, image_data):\n",
        "  with collection.batch.dynamic() as batch:\n",
        "    for image in tqdm(image_data, desc=\"Ingesting image data\"):\n",
        "      vector = get_embeddings(image[\"description\"])\n",
        "      image_obj = {\n",
        "          \"source_document\": image[\"source_document\"],\n",
        "          \"page_number\": image[\"page_number\"],\n",
        "          \"image_path\": image[\"image_path\"],\n",
        "          \"image_base64\": image[\"image_base64\"],\n",
        "          \"description\": image[\"description\"],\n",
        "          \"content_type\": \"image\"\n",
        "      }\n",
        "      batch.add_object(\n",
        "          properties=image_obj,\n",
        "          uuid=generate_uuid5(f\"{image['source_document']}_{image['page_number']}_{image['image_path']}\"),\n",
        "          vector=vector\n",
        "      )\n",
        "\n",
        "def ingest_table_data(collection, table_data):\n",
        "  with collection.batch.dynamic() as batch:\n",
        "    for table in tqdm(table_data, desc=\"Ingesting table data\"):\n",
        "      vector = get_embeddings(table[\"description\"])\n",
        "      table_obj = {\n",
        "          \"source_document\": table[\"source_document\"],\n",
        "          \"page_number\": table[\"page_number\"],\n",
        "          \"table_content\": table[\"table_content\"],\n",
        "          \"description\": table[\"description\"],\n",
        "          \"content_type\": \"table\"\n",
        "      }\n",
        "      batch.add_object(\n",
        "          properties=table_obj,\n",
        "          uuid=generate_uuid5(f\"{table['source_document']}_{table['page_number']}\"),\n",
        "          vector=vector\n",
        "      )\n",
        "\n",
        "def ingest_all_data(collection_name, audio_data, text_data, image_data, table_data):\n",
        "  collection = client.collections.get(collection_name)\n",
        "  ingest_audio_data(collection, audio_data)\n",
        "  ingest_text_data(collection, text_data)\n",
        "  ingest_image_data(collection, image_data)\n",
        "  ingest_table_data(collection, table_data)\n",
        "\n",
        "  if len(collection.batch.failed_object) > 0:\n",
        "    print(f\"Failed to ingest {len(collection.batch.failed_object)} objects\")\n",
        "  else:\n",
        "    print(\"All objects ingested successfully\")"
      ],
      "metadata": {
        "id": "cOXB-eXubm2B"
      },
      "execution_count": null,
      "outputs": []
    },
    {
      "cell_type": "markdown",
      "source": [
        "Start data ingestion"
      ],
      "metadata": {
        "id": "__1-ooz1gRkt"
      }
    },
    {
      "cell_type": "code",
      "source": [
        "ingest_all_data(collection_name=\"BizPal\", audio_data = audio_data, text_data=extract_text_with_metadata, image_data = extract_image_metadata_with_summary, table_data = extract_table_metadata_with_summary)"
      ],
      "metadata": {
        "id": "W0xEusn7bmtx"
      },
      "execution_count": null,
      "outputs": []
    },
    {
      "cell_type": "code",
      "source": [
        "try:\n",
        "  first_item = next(collection.iterator())\n",
        "  print(first_item.properties)\n",
        "  print(first_item.vector)\n",
        "except StopIteration:\n",
        "  print(\"Collection is empty\")"
      ],
      "metadata": {
        "id": "vVnkbo7khNGK"
      },
      "execution_count": null,
      "outputs": []
    },
    {
      "cell_type": "code",
      "source": [
        "import weaviate.classes.query as wc"
      ],
      "metadata": {
        "id": "SgnXPq_1ifBV"
      },
      "execution_count": null,
      "outputs": []
    },
    {
      "cell_type": "code",
      "source": [
        "def search_multimodal(query:str, limit: int=3):\n",
        "  query_vector = get_embeddings(query)\n",
        "\n",
        "  documents = client.collections.get(\"BizPal\")\n",
        "  response = documents.query.near_vector(\n",
        "      near_vector = query_vector,\n",
        "      limit = limit,\n",
        "      return_metadata=wq.MetadataQuery(distance=True),\n",
        "      return_properties=[\n",
        "          \"content_type\",\n",
        "          \"source_document\",\n",
        "          \"page_number\",\n",
        "          \"paragraph_number\",\n",
        "          \"url\",\n",
        "          \"text\",\n",
        "          \"image_path\",\n",
        "          \"image_base64\",\n",
        "          \"description\",\n",
        "          \"transcription\",\n",
        "          \"audio_path\",\n",
        "          \"table_content\"\n",
        "      ]\n",
        "  )\n",
        "\n",
        "  return response.objects"
      ],
      "metadata": {
        "id": "-vQROD8ein0q"
      },
      "execution_count": null,
      "outputs": []
    },
    {
      "cell_type": "code",
      "source": [
        "def search_and_print(query:str, limit: int=3):\n",
        "  response = search_multimodal(query, limit)\n",
        "\n",
        "  print(f\"Query: {query}\")\n",
        "  for item in response:\n",
        "    print(f\"Content type: {item.properties['content_type']}\")\n",
        "    if item.properties['content_type'] == \"text\":\n",
        "      print(f\"Source document: {item.properties['source_document']}\")\n",
        "      print(f\"Page number: {item.properties['page_number']}\")\n",
        "    elif item.properties['content_type'] == \"image\":\n",
        "      print(f\"Source document: {item.properties['source_document']}\")\n",
        "      print(f\"Page number: {item.properties['page_number']}\")\n",
        "\n",
        "    elif item.properties['content_type'] == \"audio\":\n",
        "      print(f\"Source document: {item.properties['source_document']}\")\n",
        "      print(f\"Transcription: {item.properties['transcription']}\")\n",
        "\n",
        "    elif item.properties['content_type'] == \"table\":\n",
        "      print(f\"Source document: {item.properties['source_document']}\")\n",
        "      print(f\"Page number: {item.properties['page_number']}\")\n",
        "\n",
        "    print(f\"Distance to query: {item.metadata.distance:.3f}\")\n",
        "    print(\"---\")"
      ],
      "metadata": {
        "id": "aIZtw4YLkUZ2"
      },
      "execution_count": null,
      "outputs": []
    },
    {
      "cell_type": "code",
      "source": [
        "query = \"What are the main features of BizPal?\"\n",
        "search_and_print(query)"
      ],
      "metadata": {
        "id": "s3bp4HIOlVIa"
      },
      "execution_count": null,
      "outputs": []
    },
    {
      "cell_type": "markdown",
      "source": [
        "Multimodal RAG for BizPal"
      ],
      "metadata": {
        "id": "_6Yp-oG_lazw"
      }
    },
    {
      "cell_type": "code",
      "source": [
        "def generate_response(query:str, context:str):\n",
        "  prompt = f\"\"\"\n",
        "  You are an AI assistant specializing in BizPal. Use the following pieces of information to answer the user's question. If you don't know the answer, just say that you don't know, don't try to make up an answer.\n",
        "  Context: {context}\n",
        "  User Question: {query}\n",
        "\n",
        "  Please provide a detailed and informative answer based on the context:\n",
        "  \"\"\"\n",
        "  response = openai_client.chat.completions.create(\n",
        "      model = \"gpt-4-1106-preview\",\n",
        "      messages = [\n",
        "          {\n",
        "              \"role\": \"system\",\n",
        "              \"content\": \"You are an expert in BizPal program.\"\n",
        "          },\n",
        "          {\n",
        "              \"role\": \"user\",\n",
        "              \"content\": prompt}\n",
        "      ],\n",
        "      temperature = 0,\n",
        "      max_tokens = 2000,\n",
        "      top_p = 1,\n",
        "      frequency_penalty = 0,\n",
        "      presence_penalty = 0\n",
        "  )\n",
        "  return response.choices[0].message.content\n"
      ],
      "metadata": {
        "id": "YJpmXj27lZ5B"
      },
      "execution_count": null,
      "outputs": []
    },
    {
      "cell_type": "code",
      "source": [
        "from typing_extensions import final\n",
        "def bizpal_analysis(query:str):\n",
        "  response = search_multimodal(query)\n",
        "  context = \"\"\n",
        "  for item in response:\n",
        "    if item.properties['content_type'] == \"text\":\n",
        "      context += f\"Text from {item.properties['source_document']}(Page{item.properties['page_number']}, Paragraph{item.properties['paragraph_number']}\\n\\n\"\n",
        "    elif item.properties['content_type'] == \"image\":\n",
        "      context += f\"Image description from {item.properties['source_document']} (Page{item.properties['page_number']},Path: {item.properties['image_path']} \\n\\n\"\n",
        "    elif item.properties['content_type'] == \"audio\":\n",
        "      context += f\"Audio Transcription from {item.properties['url']}(Page{item.properties['transcription']}\\n\\n\"\n",
        "    elif item.properties['content_type'] == \"table\":\n",
        "      context += f\"Table description from (item.properties['source_document']} (Page {item.properties['page_number']}): {item.properties['description']}\n",
        "\n",
        "  response = generate_response(query, context)\n",
        "\n",
        "  sources = []\n",
        "  for item in response:\n",
        "    source = {\n",
        "        \"type\": item.properties['content_type'],\n",
        "        \"distance\": item.metadata.distance\n",
        "    }\n",
        "    if item.properties['content_type'] == \"text\":\n",
        "      sources.update({\n",
        "          \"source_document\": item.properties['source_document'],\n",
        "          \"page_number\": item.properties['page_number'],\n",
        "          \"paragraph_number\": item.properties['paragraph_number']\n",
        "      })\n",
        "    elif item.properties['content_type'] == \"image\":\n",
        "      sources.update({\n",
        "          \"source_document\": item.properties['source_document'],\n",
        "          \"page_number\": item.properties['page_number'],\n",
        "          \"image_path\": item.properties['image_path']\n",
        "      })\n",
        "    elif item.properties['content_type'] == \"audio\":\n",
        "      sources.update({\n",
        "          \"url\": item.properties['url'],\n",
        "          \"transcription\": item.properties['transcription']\n",
        "      })\n",
        "    elif item.properties['content_type'] == \"table\":\n",
        "      sources.update({\n",
        "          \"source_document\": item.properties['source_document'],\n",
        "          \"page_number\": item.properties['page_number']\n",
        "      })\n",
        "\n",
        "  sources.append(source)\n",
        "  sources.sort(key=lambda x: x['distance'])\n",
        "\n",
        "  final_response = {\n",
        "      \"query\": query,\n",
        "      \"response\": response,\n",
        "      \"sources\": sources\n",
        "  }\n",
        "\n",
        "  return final_response"
      ],
      "metadata": {
        "id": "5JurBODznWx1"
      },
      "execution_count": null,
      "outputs": []
    },
    {
      "cell_type": "code",
      "source": [
        "!pip -qqq install textwrap3"
      ],
      "metadata": {
        "id": "gqaOXj-UrR8d"
      },
      "execution_count": null,
      "outputs": []
    },
    {
      "cell_type": "code",
      "source": [
        "import textwrap\n",
        "def wrap_text(text):\n",
        "  wrapped_text = textwrap.fill(text, width=100)\n",
        "  return wrapped_text"
      ],
      "metadata": {
        "id": "AHbKRLsRrXHG"
      },
      "execution_count": null,
      "outputs": []
    },
    {
      "cell_type": "code",
      "source": [
        "def analyze_response_model(userquestion):\n",
        "  result = bizpal_analysis(userquestion)\n",
        "\n",
        "  print(\"Query: \", result[\"query\"])\n",
        "  print(\"\\nResponse: \", wrap_text(result[\"response\"]))\n",
        "  print(\"\\nSources: \")\n",
        "  for source in result[\"sources\"]:\n",
        "    print(f\"- Type: {source['type']}, Distance: {source['distance']:.3f}\")\n",
        "    if source['type'] == \"text\":\n",
        "      print(f\"Source document: {source['source_document']}, Page number: {source['page_number']}, Paragraph number: {source['paragraph_number']}\")\n",
        "    elif source['type'] == \"image\":\n",
        "      print(f\"Source document: {source['source_document']}, Page number: {source['page_number']}, Paragraph number: {source['paragraph_number\n",
        "    elif source['type'] == \"audio\":\n",
        "      print(f\"  URL: {source['url']}, Transcription: {source['transcription']}\")\n",
        "    elif source['type'] == \"table\":\n",
        "      print(f\"  Source document: {source['source_document']}, Page number: {source['page_number']}\")\n",
        "\n",
        "  response = result[\"response\"]\n",
        "  sources = result[\"sources\"]"
      ],
      "metadata": {
        "id": "bK1PP4cQrZfS"
      },
      "execution_count": null,
      "outputs": []
    },
    {
      "cell_type": "code",
      "source": [
        "user_question = \"What are the main features of BizPal?\"\n",
        "analyze_response_model(user_question)"
      ],
      "metadata": {
        "id": "v2Kcg_KGQAqi"
      },
      "execution_count": null,
      "outputs": []
    },
    {
      "cell_type": "code",
      "source": [
        "user_question = \"What are the steps for registering company?\"\n",
        "analyze_response_model(user_question)"
      ],
      "metadata": {
        "id": "bxPeFESAQcHM"
      },
      "execution_count": null,
      "outputs": []
    }
  ]
}